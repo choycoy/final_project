{
  "cells": [
    {
      "cell_type": "markdown",
      "metadata": {
        "id": "view-in-github",
        "colab_type": "text"
      },
      "source": [
        "<a href=\"https://colab.research.google.com/github/choycoy/final_project/blob/main/final/prediction_dt.ipynb\" target=\"_parent\"><img src=\"https://colab.research.google.com/assets/colab-badge.svg\" alt=\"Open In Colab\"/></a>"
      ]
    },
    {
      "cell_type": "code",
      "execution_count": 1,
      "metadata": {
        "colab": {
          "base_uri": "https://localhost:8080/"
        },
        "id": "1GMIjexSMcyn",
        "outputId": "edd3d589-f056-44b2-9d37-007292478154"
      },
      "outputs": [
        {
          "output_type": "stream",
          "name": "stdout",
          "text": [
            "Drive already mounted at /content/drive; to attempt to forcibly remount, call drive.mount(\"/content/drive\", force_remount=True).\n"
          ]
        }
      ],
      "source": [
        "from google.colab import drive\n",
        "drive.mount('/content/drive')"
      ]
    },
    {
      "cell_type": "code",
      "execution_count": 3,
      "metadata": {
        "colab": {
          "base_uri": "https://localhost:8080/",
          "height": 443
        },
        "id": "xns-yVDQMkxS",
        "outputId": "a7a8fe7d-2507-4052-e0a1-ca4b27479989"
      },
      "outputs": [
        {
          "output_type": "execute_result",
          "data": {
            "text/plain": [
              "      question_id bundle_id explanation_id correct_answer  part  \\\n",
              "0               1        b1             e1              b     1   \n",
              "1               2        b2             e2              a     1   \n",
              "2               3        b3             e3              b     1   \n",
              "3               4        b4             e4              b     1   \n",
              "4               5        b5             e5              c     1   \n",
              "...           ...       ...            ...            ...   ...   \n",
              "13164       18139    b12202         e12202              b     2   \n",
              "13165       18140    b12203         e12203              a     2   \n",
              "13166       18141    b12204         e12204              a     2   \n",
              "13167       18142    b12205         e12205              a     2   \n",
              "13168       18143    b12206         e12206              c     2   \n",
              "\n",
              "                   tags    deployed_at  \n",
              "0           1;2;179;181  1558093217098  \n",
              "1              15;2;182  1558093219720  \n",
              "2          14;2;179;183  1558093222784  \n",
              "3           9;2;179;184  1558093225357  \n",
              "4           8;2;179;181  1558093228439  \n",
              "...                 ...            ...  \n",
              "13164     24;26;183;182  1571733814684  \n",
              "13165     24;33;183;182  1571733815331  \n",
              "13166     24;26;183;182  1571733815951  \n",
              "13167     24;26;183;182  1571733816585  \n",
              "13168  27;24;26;183;182  1571733817400  \n",
              "\n",
              "[13169 rows x 7 columns]"
            ],
            "text/html": [
              "\n",
              "  <div id=\"df-6eda3611-ba78-4ac8-98e1-030bdf7816e4\" class=\"colab-df-container\">\n",
              "    <div>\n",
              "<style scoped>\n",
              "    .dataframe tbody tr th:only-of-type {\n",
              "        vertical-align: middle;\n",
              "    }\n",
              "\n",
              "    .dataframe tbody tr th {\n",
              "        vertical-align: top;\n",
              "    }\n",
              "\n",
              "    .dataframe thead th {\n",
              "        text-align: right;\n",
              "    }\n",
              "</style>\n",
              "<table border=\"1\" class=\"dataframe\">\n",
              "  <thead>\n",
              "    <tr style=\"text-align: right;\">\n",
              "      <th></th>\n",
              "      <th>question_id</th>\n",
              "      <th>bundle_id</th>\n",
              "      <th>explanation_id</th>\n",
              "      <th>correct_answer</th>\n",
              "      <th>part</th>\n",
              "      <th>tags</th>\n",
              "      <th>deployed_at</th>\n",
              "    </tr>\n",
              "  </thead>\n",
              "  <tbody>\n",
              "    <tr>\n",
              "      <th>0</th>\n",
              "      <td>1</td>\n",
              "      <td>b1</td>\n",
              "      <td>e1</td>\n",
              "      <td>b</td>\n",
              "      <td>1</td>\n",
              "      <td>1;2;179;181</td>\n",
              "      <td>1558093217098</td>\n",
              "    </tr>\n",
              "    <tr>\n",
              "      <th>1</th>\n",
              "      <td>2</td>\n",
              "      <td>b2</td>\n",
              "      <td>e2</td>\n",
              "      <td>a</td>\n",
              "      <td>1</td>\n",
              "      <td>15;2;182</td>\n",
              "      <td>1558093219720</td>\n",
              "    </tr>\n",
              "    <tr>\n",
              "      <th>2</th>\n",
              "      <td>3</td>\n",
              "      <td>b3</td>\n",
              "      <td>e3</td>\n",
              "      <td>b</td>\n",
              "      <td>1</td>\n",
              "      <td>14;2;179;183</td>\n",
              "      <td>1558093222784</td>\n",
              "    </tr>\n",
              "    <tr>\n",
              "      <th>3</th>\n",
              "      <td>4</td>\n",
              "      <td>b4</td>\n",
              "      <td>e4</td>\n",
              "      <td>b</td>\n",
              "      <td>1</td>\n",
              "      <td>9;2;179;184</td>\n",
              "      <td>1558093225357</td>\n",
              "    </tr>\n",
              "    <tr>\n",
              "      <th>4</th>\n",
              "      <td>5</td>\n",
              "      <td>b5</td>\n",
              "      <td>e5</td>\n",
              "      <td>c</td>\n",
              "      <td>1</td>\n",
              "      <td>8;2;179;181</td>\n",
              "      <td>1558093228439</td>\n",
              "    </tr>\n",
              "    <tr>\n",
              "      <th>...</th>\n",
              "      <td>...</td>\n",
              "      <td>...</td>\n",
              "      <td>...</td>\n",
              "      <td>...</td>\n",
              "      <td>...</td>\n",
              "      <td>...</td>\n",
              "      <td>...</td>\n",
              "    </tr>\n",
              "    <tr>\n",
              "      <th>13164</th>\n",
              "      <td>18139</td>\n",
              "      <td>b12202</td>\n",
              "      <td>e12202</td>\n",
              "      <td>b</td>\n",
              "      <td>2</td>\n",
              "      <td>24;26;183;182</td>\n",
              "      <td>1571733814684</td>\n",
              "    </tr>\n",
              "    <tr>\n",
              "      <th>13165</th>\n",
              "      <td>18140</td>\n",
              "      <td>b12203</td>\n",
              "      <td>e12203</td>\n",
              "      <td>a</td>\n",
              "      <td>2</td>\n",
              "      <td>24;33;183;182</td>\n",
              "      <td>1571733815331</td>\n",
              "    </tr>\n",
              "    <tr>\n",
              "      <th>13166</th>\n",
              "      <td>18141</td>\n",
              "      <td>b12204</td>\n",
              "      <td>e12204</td>\n",
              "      <td>a</td>\n",
              "      <td>2</td>\n",
              "      <td>24;26;183;182</td>\n",
              "      <td>1571733815951</td>\n",
              "    </tr>\n",
              "    <tr>\n",
              "      <th>13167</th>\n",
              "      <td>18142</td>\n",
              "      <td>b12205</td>\n",
              "      <td>e12205</td>\n",
              "      <td>a</td>\n",
              "      <td>2</td>\n",
              "      <td>24;26;183;182</td>\n",
              "      <td>1571733816585</td>\n",
              "    </tr>\n",
              "    <tr>\n",
              "      <th>13168</th>\n",
              "      <td>18143</td>\n",
              "      <td>b12206</td>\n",
              "      <td>e12206</td>\n",
              "      <td>c</td>\n",
              "      <td>2</td>\n",
              "      <td>27;24;26;183;182</td>\n",
              "      <td>1571733817400</td>\n",
              "    </tr>\n",
              "  </tbody>\n",
              "</table>\n",
              "<p>13169 rows × 7 columns</p>\n",
              "</div>\n",
              "    <div class=\"colab-df-buttons\">\n",
              "\n",
              "  <div class=\"colab-df-container\">\n",
              "    <button class=\"colab-df-convert\" onclick=\"convertToInteractive('df-6eda3611-ba78-4ac8-98e1-030bdf7816e4')\"\n",
              "            title=\"Convert this dataframe to an interactive table.\"\n",
              "            style=\"display:none;\">\n",
              "\n",
              "  <svg xmlns=\"http://www.w3.org/2000/svg\" height=\"24px\" viewBox=\"0 -960 960 960\">\n",
              "    <path d=\"M120-120v-720h720v720H120Zm60-500h600v-160H180v160Zm220 220h160v-160H400v160Zm0 220h160v-160H400v160ZM180-400h160v-160H180v160Zm440 0h160v-160H620v160ZM180-180h160v-160H180v160Zm440 0h160v-160H620v160Z\"/>\n",
              "  </svg>\n",
              "    </button>\n",
              "\n",
              "  <style>\n",
              "    .colab-df-container {\n",
              "      display:flex;\n",
              "      gap: 12px;\n",
              "    }\n",
              "\n",
              "    .colab-df-convert {\n",
              "      background-color: #E8F0FE;\n",
              "      border: none;\n",
              "      border-radius: 50%;\n",
              "      cursor: pointer;\n",
              "      display: none;\n",
              "      fill: #1967D2;\n",
              "      height: 32px;\n",
              "      padding: 0 0 0 0;\n",
              "      width: 32px;\n",
              "    }\n",
              "\n",
              "    .colab-df-convert:hover {\n",
              "      background-color: #E2EBFA;\n",
              "      box-shadow: 0px 1px 2px rgba(60, 64, 67, 0.3), 0px 1px 3px 1px rgba(60, 64, 67, 0.15);\n",
              "      fill: #174EA6;\n",
              "    }\n",
              "\n",
              "    .colab-df-buttons div {\n",
              "      margin-bottom: 4px;\n",
              "    }\n",
              "\n",
              "    [theme=dark] .colab-df-convert {\n",
              "      background-color: #3B4455;\n",
              "      fill: #D2E3FC;\n",
              "    }\n",
              "\n",
              "    [theme=dark] .colab-df-convert:hover {\n",
              "      background-color: #434B5C;\n",
              "      box-shadow: 0px 1px 3px 1px rgba(0, 0, 0, 0.15);\n",
              "      filter: drop-shadow(0px 1px 2px rgba(0, 0, 0, 0.3));\n",
              "      fill: #FFFFFF;\n",
              "    }\n",
              "  </style>\n",
              "\n",
              "    <script>\n",
              "      const buttonEl =\n",
              "        document.querySelector('#df-6eda3611-ba78-4ac8-98e1-030bdf7816e4 button.colab-df-convert');\n",
              "      buttonEl.style.display =\n",
              "        google.colab.kernel.accessAllowed ? 'block' : 'none';\n",
              "\n",
              "      async function convertToInteractive(key) {\n",
              "        const element = document.querySelector('#df-6eda3611-ba78-4ac8-98e1-030bdf7816e4');\n",
              "        const dataTable =\n",
              "          await google.colab.kernel.invokeFunction('convertToInteractive',\n",
              "                                                    [key], {});\n",
              "        if (!dataTable) return;\n",
              "\n",
              "        const docLinkHtml = 'Like what you see? Visit the ' +\n",
              "          '<a target=\"_blank\" href=https://colab.research.google.com/notebooks/data_table.ipynb>data table notebook</a>'\n",
              "          + ' to learn more about interactive tables.';\n",
              "        element.innerHTML = '';\n",
              "        dataTable['output_type'] = 'display_data';\n",
              "        await google.colab.output.renderOutput(dataTable, element);\n",
              "        const docLink = document.createElement('div');\n",
              "        docLink.innerHTML = docLinkHtml;\n",
              "        element.appendChild(docLink);\n",
              "      }\n",
              "    </script>\n",
              "  </div>\n",
              "\n",
              "\n",
              "<div id=\"df-86294a66-3158-4093-b123-1f47a22269a4\">\n",
              "  <button class=\"colab-df-quickchart\" onclick=\"quickchart('df-86294a66-3158-4093-b123-1f47a22269a4')\"\n",
              "            title=\"Suggest charts.\"\n",
              "            style=\"display:none;\">\n",
              "\n",
              "<svg xmlns=\"http://www.w3.org/2000/svg\" height=\"24px\"viewBox=\"0 0 24 24\"\n",
              "     width=\"24px\">\n",
              "    <g>\n",
              "        <path d=\"M19 3H5c-1.1 0-2 .9-2 2v14c0 1.1.9 2 2 2h14c1.1 0 2-.9 2-2V5c0-1.1-.9-2-2-2zM9 17H7v-7h2v7zm4 0h-2V7h2v10zm4 0h-2v-4h2v4z\"/>\n",
              "    </g>\n",
              "</svg>\n",
              "  </button>\n",
              "\n",
              "<style>\n",
              "  .colab-df-quickchart {\n",
              "    background-color: #E8F0FE;\n",
              "    border: none;\n",
              "    border-radius: 50%;\n",
              "    cursor: pointer;\n",
              "    display: none;\n",
              "    fill: #1967D2;\n",
              "    height: 32px;\n",
              "    padding: 0 0 0 0;\n",
              "    width: 32px;\n",
              "  }\n",
              "\n",
              "  .colab-df-quickchart:hover {\n",
              "    background-color: #E2EBFA;\n",
              "    box-shadow: 0px 1px 2px rgba(60, 64, 67, 0.3), 0px 1px 3px 1px rgba(60, 64, 67, 0.15);\n",
              "    fill: #174EA6;\n",
              "  }\n",
              "\n",
              "  [theme=dark] .colab-df-quickchart {\n",
              "    background-color: #3B4455;\n",
              "    fill: #D2E3FC;\n",
              "  }\n",
              "\n",
              "  [theme=dark] .colab-df-quickchart:hover {\n",
              "    background-color: #434B5C;\n",
              "    box-shadow: 0px 1px 3px 1px rgba(0, 0, 0, 0.15);\n",
              "    filter: drop-shadow(0px 1px 2px rgba(0, 0, 0, 0.3));\n",
              "    fill: #FFFFFF;\n",
              "  }\n",
              "</style>\n",
              "\n",
              "  <script>\n",
              "    async function quickchart(key) {\n",
              "      const charts = await google.colab.kernel.invokeFunction(\n",
              "          'suggestCharts', [key], {});\n",
              "    }\n",
              "    (() => {\n",
              "      let quickchartButtonEl =\n",
              "        document.querySelector('#df-86294a66-3158-4093-b123-1f47a22269a4 button');\n",
              "      quickchartButtonEl.style.display =\n",
              "        google.colab.kernel.accessAllowed ? 'block' : 'none';\n",
              "    })();\n",
              "  </script>\n",
              "</div>\n",
              "    </div>\n",
              "  </div>\n"
            ]
          },
          "metadata": {},
          "execution_count": 3
        }
      ],
      "source": [
        "import pandas as pd\n",
        "q_df = pd.read_csv(\"/content/drive/My Drive/final/questions.csv\",sep=\",\")\n",
        "q_df['question_id'] = q_df['question_id'].str.replace('q', '')\n",
        "q_df"
      ]
    },
    {
      "cell_type": "code",
      "execution_count": 4,
      "metadata": {
        "id": "hWvxbJI_MlkF"
      },
      "outputs": [],
      "source": [
        "df1 = pd.read_csv(\"/content/drive/My Drive/final/combined_with_filename__1.csv\",sep=\",\")\n",
        "df2 = pd.read_csv(\"/content/drive/My Drive/final/combined_with_filename__2.csv\",sep=\",\")\n",
        "df3 = pd.read_csv(\"/content/drive/My Drive/final/combined_with_filename__3.csv\",sep=\",\")\n",
        "#df4 = pd.read_csv(\"/content/drive/My Drive/final/combined_with_filename__4.csv\",sep=\",\")\n",
        "#df5 = pd.read_csv(\"/content/drive/My Drive/final/combined_with_filename__5.csv\",sep=\",\")\n",
        "#df6 = pd.read_csv(\"/content/drive/My Drive/final/combined_with_filename__6.csv\",sep=\",\")\n",
        "#df7 = pd.read_csv(\"/content/drive/My Drive/final/combined_with_filename__7.csv\",sep=\",\")\n",
        "#df8 = pd.read_csv(\"/content/drive/My Drive/final/combined_with_filename__8.csv\",sep=\",\")\n",
        "#df9 = pd.read_csv(\"/content/drive/My Drive/final/combined_with_filename__9.csv\",sep=\",\")\n",
        "#df10 = pd.read_csv(\"/content/drive/My Drive/final/combined_with_filename__10.csv\",sep=\",\")\n",
        "#df11 = pd.read_csv(\"/content/drive/My Drive/final/combined_with_filename__11.csv\",sep=\",\")\n",
        "#df12 = pd.read_csv(\"/content/drive/My Drive/final/combined_with_filename__12.csv\",sep=\",\")\n",
        "#df13 = pd.read_csv(\"/content/drive/My Drive/final/combined_with_filename__13.csv\",sep=\",\")\n",
        "#df14 = pd.read_csv(\"/content/drive/My Drive/final/combined_with_filename__14.csv\",sep=\",\")\n",
        "#df15 = pd.read_csv(\"/content/drive/My Drive/final/combined_with_filename__15.csv\",sep=\",\")\n",
        "#df16 = pd.read_csv(\"/content/drive/My Drive/final/combined_with_filename__16.csv\",sep=\",\")\n",
        "#df17 = pd.read_csv(\"/content/drive/My Drive/final/combined_with_filename__17.csv\",sep=\",\")\n",
        "#df18 = pd.read_csv(\"/content/drive/My Drive/final/combined_with_filename__18.csv\",sep=\",\")\n",
        "#df19 = pd.read_csv(\"/content/drive/My Drive/final/combined_with_filename__19.csv\",sep=\",\")\n",
        "#df20 = pd.read_csv(\"/content/drive/My Drive/final/combined_with_filename__20.csv\",sep=\",\")\n",
        "#df21 = pd.read_csv(\"/content/drive/My Drive/final/combined_with_filename__21.csv\",sep=\",\")\n",
        "#df22 = pd.read_csv(\"/content/drive/My Drive/final/combined_with_filename__22.csv\",sep=\",\")\n",
        "#df23 = pd.read_csv(\"/content/drive/My Drive/final/combined_with_filename__23.csv\",sep=\",\")\n",
        "#df24 = pd.read_csv(\"/content/drive/My Drive/final/combined_with_filename__24.csv\",sep=\",\")\n",
        "#df25 = pd.read_csv(\"/content/drive/My Drive/final/combined_with_filename__25.csv\",sep=\",\")\n",
        "#df26 = pd.read_csv(\"/content/drive/My Drive/final/combined_with_filename__26.csv\",sep=\",\")\n",
        "#df27 = pd.read_csv(\"/content/drive/My Drive/final/combined_with_filename__27.csv\",sep=\",\")\n",
        "#df28 = pd.read_csv(\"/content/drive/My Drive/final/combined_with_filename__28.csv\",sep=\",\")\n",
        "\n",
        "\n",
        "df = pd.concat([df1, df2, df3])"
      ]
    },
    {
      "cell_type": "code",
      "execution_count": 5,
      "metadata": {
        "colab": {
          "base_uri": "https://localhost:8080/"
        },
        "id": "7T4rIR7DMmsk",
        "outputId": "40422eae-a164-44ae-a3cd-b3e8f0534e03"
      },
      "outputs": [
        {
          "output_type": "stream",
          "name": "stdout",
          "text": [
            "             timestamp  solving_id  question_id user_answer  elapsed_time  \\\n",
            "0        1565096190868           1         5012           b         38000   \n",
            "1        1565096221062           2         4706           c         24000   \n",
            "2        1565096293432           3         4366           b         68000   \n",
            "3        1565096339668           4         4829           a         42000   \n",
            "4        1565096401774           5         6528           b         59000   \n",
            "...                ...         ...          ...         ...           ...   \n",
            "2999995  1567427902612        3156        10020           b         20000   \n",
            "2999996  1567428015542        3157        17192           a         14000   \n",
            "2999997  1567428333271        3158         5418           b         15000   \n",
            "2999998  1567428412553        3159        10020           c          4000   \n",
            "2999999  1567431236639        3160         6366           c         31000   \n",
            "\n",
            "         user_id correct_answer  is_correct  \n",
            "0              1              c           0  \n",
            "1              1              c           1  \n",
            "2              1              b           1  \n",
            "3              1              c           0  \n",
            "4              1              d           0  \n",
            "...          ...            ...         ...  \n",
            "2999995     1283              c           0  \n",
            "2999996     1283              a           1  \n",
            "2999997     1283              b           1  \n",
            "2999998     1283              c           1  \n",
            "2999999     1283              d           0  \n",
            "\n",
            "[3000000 rows x 8 columns]\n"
          ]
        }
      ],
      "source": [
        "df['question_id'] = df['question_id'].astype('int64')\n",
        "q_df['question_id'] = q_df['question_id'].astype('int64')\n",
        "\n",
        "# Merge the dataframes on 'question_id'\n",
        "merged_df = pd.merge(df, q_df[['question_id', 'correct_answer']], on='question_id', how='left')\n",
        "\n",
        "# Create the 'is_correct' column based on the comparison between 'user_answer' and 'correct_answer'\n",
        "merged_df['is_correct'] = (merged_df['user_answer'] == merged_df['correct_answer']).astype(int)\n",
        "\n",
        "# Now merged_df will have a new column 'is_correct' indicating if the user_answer is correct or not\n",
        "print(merged_df)"
      ]
    },
    {
      "cell_type": "code",
      "execution_count": 6,
      "metadata": {
        "colab": {
          "base_uri": "https://localhost:8080/"
        },
        "id": "USbBOTvoMomv",
        "outputId": "3e5edbd0-a87c-4fca-a3bf-f4cff2630c86"
      },
      "outputs": [
        {
          "output_type": "stream",
          "name": "stdout",
          "text": [
            "0            0\n",
            "1            1\n",
            "2            2\n",
            "3            2\n",
            "4            2\n",
            "          ... \n",
            "2994680    503\n",
            "2994681    503\n",
            "2994682    504\n",
            "2994683    504\n",
            "2994684    504\n",
            "Name: correct_count, Length: 3000000, dtype: int64\n",
            "0            1\n",
            "1            2\n",
            "2            3\n",
            "3            4\n",
            "4            5\n",
            "          ... \n",
            "2994680    601\n",
            "2994681    602\n",
            "2994682    603\n",
            "2994683    604\n",
            "2994684    605\n",
            "Name: interaction_count, Length: 3000000, dtype: int64\n"
          ]
        }
      ],
      "source": [
        "# Assuming you have the dataframe df containing student interactions with columns: timestamp, solving_id, question_id, user_answer, elapsed_time, user_id, and is_correct (1 for correct, 0 for incorrect).\n",
        "\n",
        "# Sort the dataframe by timestamp to ensure the data is in chronological order\n",
        "merged_df.sort_values(by=['user_id', 'timestamp'], inplace=True)\n",
        "\n",
        "# Calculate Correctness Rate and Interaction Count for each user\n",
        "merged_df['correct_count'] = merged_df.groupby('user_id')['is_correct'].cumsum()  # Cumulative sum of correct answers for each user\n",
        "print(merged_df['correct_count'])\n",
        "\n",
        "merged_df['interaction_count'] = merged_df.groupby('user_id').cumcount() + 1  # Cumulative count of interactions for each user\n",
        "print(merged_df['interaction_count'])\n",
        "\n",
        "merged_df['correctness_rate'] = merged_df['correct_count'] / merged_df['interaction_count']  # Calculate the correctness rate for each interaction\n",
        "\n",
        "# Calculate average, minimum, and maximum elapsed time for each user\n",
        "merged_df['average_elapsed_time'] = merged_df.groupby('user_id')['elapsed_time'].transform('mean')\n",
        "merged_df['min_elapsed_time'] = merged_df.groupby('user_id')['elapsed_time'].transform('min')\n",
        "merged_df['max_elapsed_time'] = merged_df.groupby('user_id')['elapsed_time'].transform('max')\n",
        "\n",
        "# Drop unnecessary columns if needed\n",
        "merged_df.drop(['correct_count', 'interaction_count'], axis=1, inplace=True)\n"
      ]
    },
    {
      "cell_type": "code",
      "execution_count": 7,
      "metadata": {
        "id": "ah5dS1wvMrEE"
      },
      "outputs": [],
      "source": [
        "merged_df['next_is_correct'] = merged_df['is_correct'].shift(-1)\n",
        "merged_df.dropna(subset=['next_is_correct'], inplace=True)"
      ]
    },
    {
      "cell_type": "code",
      "source": [
        "features = ['average_elapsed_time', 'min_elapsed_time', 'max_elapsed_time','correctness_rate']"
      ],
      "metadata": {
        "id": "lQbvN_-EFfho"
      },
      "execution_count": 12,
      "outputs": []
    },
    {
      "cell_type": "code",
      "execution_count": 13,
      "metadata": {
        "id": "R8_wXrP2Mt8o"
      },
      "outputs": [],
      "source": [
        "from sklearn.model_selection import train_test_split\n",
        "\n",
        "X = merged_df[features]\n",
        "y = merged_df['next_is_correct']\n",
        "\n",
        "X_train, X_test, y_train, y_test = train_test_split(X, y, test_size=0.2, random_state=42)"
      ]
    },
    {
      "cell_type": "code",
      "source": [
        "from sklearn.tree import DecisionTreeClassifier\n",
        "from sklearn.metrics import accuracy_score, precision_score, recall_score, f1_score\n",
        "model = DecisionTreeClassifier(random_state=42)\n",
        "model.fit(X_train, y_train)\n",
        "\n",
        "# Make predictions on the testing data\n",
        "y_pred = model.predict(X_test)\n",
        "\n",
        "# Evaluate the model's performance\n",
        "accuracy = accuracy_score(y_test, y_pred)\n",
        "precision = precision_score(y_test, y_pred)\n",
        "recall = recall_score(y_test, y_pred)\n",
        "f1 = f1_score(y_test, y_pred)\n",
        "\n",
        "print(\"Accuracy: {:.2f}\".format(accuracy))\n",
        "print(\"Precision: {:.2f}\".format(precision))\n",
        "print(\"Recall: {:.2f}\".format(recall))\n",
        "print(\"F1-score: {:.2f}\".format(f1))"
      ],
      "metadata": {
        "colab": {
          "base_uri": "https://localhost:8080/"
        },
        "id": "pL-86Sho7MU0",
        "outputId": "3456072f-c112-4d41-986c-df87197ac2e0"
      },
      "execution_count": 14,
      "outputs": [
        {
          "output_type": "stream",
          "name": "stdout",
          "text": [
            "Accuracy: 0.68\n",
            "Precision: 0.68\n",
            "Recall: 0.97\n",
            "F1-score: 0.80\n"
          ]
        }
      ]
    },
    {
      "cell_type": "code",
      "execution_count": 15,
      "metadata": {
        "colab": {
          "base_uri": "https://localhost:8080/"
        },
        "id": "98VGzWabWZJD",
        "outputId": "82c21ad8-f2d1-44a2-b322-cc4607e8b643"
      },
      "outputs": [
        {
          "output_type": "stream",
          "name": "stderr",
          "text": [
            "/usr/local/lib/python3.10/dist-packages/sklearn/ensemble/_base.py:166: FutureWarning: `base_estimator` was renamed to `estimator` in version 1.2 and will be removed in 1.4.\n",
            "  warnings.warn(\n"
          ]
        },
        {
          "output_type": "stream",
          "name": "stdout",
          "text": [
            "Accuracy: 0.68\n",
            "Precision: 0.68\n",
            "Recall: 0.97\n",
            "F1-score: 0.80\n"
          ]
        }
      ],
      "source": [
        "from sklearn.ensemble import BaggingClassifier\n",
        "bag = BaggingClassifier(base_estimator=model, n_estimators=50, random_state=42)\n",
        "\n",
        "# Train the model on the training data\n",
        "bag.fit(X_train, y_train)\n",
        "\n",
        "# Make predictions on the testing data\n",
        "y_pred = bag.predict(X_test)\n",
        "\n",
        "# Evaluate the model's performance\n",
        "accuracy = accuracy_score(y_test, y_pred)\n",
        "precision = precision_score(y_test, y_pred)\n",
        "recall = recall_score(y_test, y_pred)\n",
        "f1 = f1_score(y_test, y_pred)\n",
        "\n",
        "print(\"Accuracy: {:.2f}\".format(accuracy))\n",
        "print(\"Precision: {:.2f}\".format(precision))\n",
        "print(\"Recall: {:.2f}\".format(recall))\n",
        "print(\"F1-score: {:.2f}\".format(f1))"
      ]
    },
    {
      "cell_type": "code",
      "execution_count": 16,
      "metadata": {
        "colab": {
          "base_uri": "https://localhost:8080/"
        },
        "id": "Gu-qccE1MzRk",
        "outputId": "5505f49b-648d-4628-bfa6-abebceb6a6c0"
      },
      "outputs": [
        {
          "output_type": "stream",
          "name": "stderr",
          "text": [
            "/usr/local/lib/python3.10/dist-packages/sklearn/ensemble/_base.py:166: FutureWarning: `base_estimator` was renamed to `estimator` in version 1.2 and will be removed in 1.4.\n",
            "  warnings.warn(\n"
          ]
        },
        {
          "output_type": "stream",
          "name": "stdout",
          "text": [
            "Accuracy: 0.68\n",
            "Precision: 0.68\n",
            "Recall: 0.97\n",
            "F1-score: 0.80\n"
          ]
        }
      ],
      "source": [
        "from sklearn.ensemble import AdaBoostClassifier\n",
        "from sklearn.metrics import accuracy_score, precision_score, recall_score, f1_score\n",
        "# Initialize the base classifier (in this case, a decision tree)\n",
        "# Initialize the AdaBoost classifier\n",
        "classifier_boost = AdaBoostClassifier(base_estimator=model, n_estimators=50, random_state=42)\n",
        "\n",
        "# Train the model on the training data\n",
        "classifier_boost.fit(X_train, y_train)\n",
        "\n",
        "# Make predictions on the testing data\n",
        "y_pred = classifier_boost.predict(X_test)\n",
        "\n",
        "# Evaluate the model's performance\n",
        "accuracy = accuracy_score(y_test, y_pred)\n",
        "precision = precision_score(y_test, y_pred)\n",
        "recall = recall_score(y_test, y_pred)\n",
        "f1 = f1_score(y_test, y_pred)\n",
        "\n",
        "print(\"Accuracy: {:.2f}\".format(accuracy))\n",
        "print(\"Precision: {:.2f}\".format(precision))\n",
        "print(\"Recall: {:.2f}\".format(recall))\n",
        "print(\"F1-score: {:.2f}\".format(f1))"
      ]
    }
  ],
  "metadata": {
    "colab": {
      "provenance": [],
      "authorship_tag": "ABX9TyN/UTLZquLwMOtHBmyRAidI",
      "include_colab_link": true
    },
    "kernelspec": {
      "display_name": "Python 3",
      "name": "python3"
    },
    "language_info": {
      "name": "python"
    }
  },
  "nbformat": 4,
  "nbformat_minor": 0
}